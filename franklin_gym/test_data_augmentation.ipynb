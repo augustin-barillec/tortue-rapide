{
 "cells": [
  {
   "cell_type": "code",
   "execution_count": 29,
   "metadata": {},
   "outputs": [],
   "source": [
    "import numpy as np\n",
    "import glob\n",
    "import json\n",
    "import os\n",
    "from PIL import Image\n",
    "import random\n",
    "import matplotlib.pyplot as plt\n",
    "\n",
    "from tqdm import tqdm\n",
    "import cv2\n",
    "\n",
    "from imgaug import augmenters as iaa\n",
    "from tensorflow.python.keras.callbacks import ModelCheckpoint, EarlyStopping\n",
    "\n",
    "from augmentation import *\n",
    "from model import default_categorical\n",
    "from utils import linear_bin, tub_to_array, rebalance"
   ]
  },
  {
   "cell_type": "code",
   "execution_count": null,
   "metadata": {},
   "outputs": [],
   "source": [
    "def tub_file_names(tub_path):\n",
    "\n",
    "    pics_list = glob.glob(tub_path + '/*.jpg')\n",
    "    records_list = glob.glob(tub_path + \"/record_*.json\")\n",
    "\n",
    "    pics_list.sort(key=lambda x: int(os.path.basename(x).split('_')[0]))\n",
    "    records_list.sort(key=lambda x: int(os.path.basename(x).split('_')[1].split('.')[0]))\n",
    "    \n",
    "    pics_names = [os.path.basename(pic) for pic in pics_list]\n",
    "            \n",
    "    return pics_names"
   ]
  },
  {
   "cell_type": "code",
   "execution_count": null,
   "metadata": {},
   "outputs": [],
   "source": [
    "# AVAILABLE TUBS\n",
    "tub_20181113_42_afternoon = '/home/data/tortue-rapide/tubs/raw/tub_20181113_42_afternoon'\n",
    "tub_20181113_42_evening = '/home/data/tortue-rapide/tubs/raw/tub_20181113_42_evening'\n",
    "tub_20181124_morning_lesquare_horaire = '/home/data/tortue-rapide/tubs/raw/tub_20181124_morning_lesquare_horaire'\n",
    "tub_20181124_morning_lesquare_antihoraire = '/home/data/tortue-rapide/tubs/raw/tub_20181124_morning_lesquare_antihoraire'\n",
    "tub_20181121_ysance_evening = '/home/data/tortue-rapide/tubs/raw/tub_20181121_ysance_evening'\n",
    "tub_20181122_ysance_noon = '/home/data/tortue-rapide/tubs/raw/tub_20181122_ysance_noon'\n",
    "tub_20181121_ysance_evening_500 = '/home/data/tortue-rapide/tubs/raw/tub_20181121_ysance_evening_500_correction'\n",
    "\n",
    "# EXAMPLES\n",
    "img_example = '/home/projects/ironcar-dev/tubs/tub_20181124_morning_lesquare_antihoraire/291_cam-image_array_.jpg'\n",
    "json_exple = '/home/projects/ironcar-dev/tubs/tub_20181124_morning_lesquare_antihoraire/record_291.json'\n",
    "\n",
    "save_model_path = '/home/projects/tortue-rapide/franklin_gym/test_models'\n",
    "\n",
    "# convert tubs to numpy arrays\n",
    "x_42_afternoon, y_42_afternoon = tub_to_array(tub_20181113_42_afternoon, n_class=3)\n",
    "# x_42_evening, y_42_evening = tub_to_array(tub_20181113_42_evening, n_class=3)\n",
    "#x_morning_lesquare_horaire, y_morning_lesquare_horaire = tub_to_array(tub_20181124_morning_lesquare_horaire, n_class=3)\n",
    "#x_morning_lesquare_antihoraire, y_morning_lesquare_antihoraire = tub_to_array(tub_20181124_morning_lesquare_antihoraire, n_class=3)\n",
    "#X_ysance_evening, Y_ysance_evening = tub_to_array(tub_20181121_ysance_evening, n_class=3)\n",
    "#X_ysance_noon, Y_ysance_noon = tub_to_array(tub_20181122_ysance_noon, n_class=3)\n",
    "#X_ysance_evening_500, Y_ysance_evening_500 = tub_to_array(tub_20181121_ysance_evening_500, n_class=3)\n",
    "\n",
    "# rebalance classes\n",
    "# x_42_afternoon, y_42_afternoon = rebalance(x_42_afternoon, y_42_afternoon)\n",
    "# x_42_evening, y_42_evening = rebalance(x_42_evening, y_42_evening)\n",
    "# x_morning_lesquare_horaire, y_morning_lesquare_horaire = rebalance(x_morning_lesquare_horaire, y_morning_lesquare_horaire)\n",
    "\n",
    "# train / validation split\n",
    "# X_train = np.concatenate((x_42_afternoon, x_morning_lesquare_antihoraire, x_morning_lesquare_horaire))\n",
    "# Y_train = np.concatenate((y_42_afternoon, y_morning_lesquare_antihoraire, y_morning_lesquare_horaire)) \n",
    "# X_val, Y_val = X_ysance_noon[:20000], Y_ysance_noon[:20000]"
   ]
  },
  {
   "cell_type": "code",
   "execution_count": null,
   "metadata": {},
   "outputs": [],
   "source": [
    "new_tub_path = '/home/data/tortue-rapide/tubs/npy_format/tub_20181113_42_afternoon/'\n",
    "!mkdir {new_tub_path}\n",
    "\n",
    "for n in range(len(x_42_afternoon)):\n",
    "    np.save(file = new_tub_path + 'X_' + str(n), arr=x_42_afternoon[n])\n",
    "    np.save(file = new_tub_path + 'y_' + str(n), arr=y_42_afternoon[n])"
   ]
  },
  {
   "cell_type": "code",
   "execution_count": null,
   "metadata": {},
   "outputs": [],
   "source": [
    "# files name\n",
    "morning_lesquare_horaire_filenames = tub_file_names(tub_20181124_morning_lesquare_horaire)\n",
    "morning_lesquare_antihoraire_filenames = tub_file_names(tub_20181124_morning_lesquare_antihoraire)\n",
    "#ysance_evening_filenames = tub_file_names(tub_20181121_ysance_evening)\n",
    "#ysance_evening_500_filenames = tub_file_names(tub_20181121_ysance_evening_500)"
   ]
  },
  {
   "cell_type": "code",
   "execution_count": null,
   "metadata": {},
   "outputs": [],
   "source": [
    "x_morning_lesquare_horaire.shape"
   ]
  },
  {
   "cell_type": "code",
   "execution_count": null,
   "metadata": {
    "scrolled": true
   },
   "outputs": [],
   "source": [
    "plt.figure(figsize=(13,12))\n",
    "show_rank=110\n",
    "for n in range(9):\n",
    "    plt.subplot(3, 3,n+1)\n",
    "    plt.imshow(X_ysance_evening_500[n+show_rank][30:])"
   ]
  },
  {
   "cell_type": "code",
   "execution_count": null,
   "metadata": {
    "scrolled": false
   },
   "outputs": [],
   "source": [
    "plt.figure(figsize=(13,12))\n",
    "for n in range(9):\n",
    "  plt.subplot(3,3,n+1)\n",
    "  select = np.random.randint(len(x_morning_lesquare_horaire))\n",
    "  plt.imshow(x_morning_lesquare_horaire[select][30:])\n",
    "  plt.title(str(y_morning_lesquare_horaire[select]) + '\\n' + \n",
    "            str(morning_lesquare_horaire_filenames[select]))\n",
    "  plt.axis('off')"
   ]
  },
  {
   "cell_type": "code",
   "execution_count": null,
   "metadata": {},
   "outputs": [],
   "source": [
    "start = 4150\n",
    "gap = 5\n",
    "\n",
    "plt.figure(figsize=(13,80))\n",
    "for n in range(60):\n",
    "  plt.subplot(20,3,n+1)\n",
    "  plt.imshow(x_morning_lesquare_antihoraire[start+n*gap][30:])\n",
    "  plt.title(str(y_morning_lesquare_antihoraire[start+n*gap]) + '\\n' + \n",
    "            str(morning_lesquare_antihoraire_filenames[start+n*gap]))\n",
    "  plt.axis('off')"
   ]
  },
  {
   "cell_type": "code",
   "execution_count": null,
   "metadata": {},
   "outputs": [],
   "source": [
    "%%bash\n",
    "cat /home/data/tortue-rapide/tubs/raw/tub_20181124_morning_lesquare_horaire/record_2764.json"
   ]
  },
  {
   "cell_type": "code",
   "execution_count": null,
   "metadata": {},
   "outputs": [],
   "source": [
    "import matplotlib.pyplot as plt\n",
    "\n",
    "def plot_class_histogram(Y):\n",
    "    '''\n",
    "    Y : categorical numpy array'''\n",
    "    a = [1, 2, 3]\n",
    "    fi = [sum(n * a) for n in Y]\n",
    "    \n",
    "    plt.hist(fi, bins='auto')\n",
    "\n",
    "plot_class_histogram(Y_ysance_evening_500)"
   ]
  },
  {
   "cell_type": "code",
   "execution_count": null,
   "metadata": {},
   "outputs": [],
   "source": [
    "Y_ysance_evening_500[0]"
   ]
  },
  {
   "cell_type": "code",
   "execution_count": null,
   "metadata": {
    "scrolled": true
   },
   "outputs": [],
   "source": [
    "# MAP DATA PREPARATION\n",
    "\n",
    "train_tubs = ['tub_20181113_42_afternoon', \n",
    "              'tub_20181113_42_evening',\n",
    "              'tub_20181124_morning_lesquare_antihoraire']\n",
    "validation_tubs = ['tub_20181122_ysance_noon']\n",
    "\n",
    "rebalance_tubs = ['tub_20181113_42_afternoon', \n",
    "                  'tub_20181113_42_evening']\n",
    "\n",
    "# 'tweak_luminosity'\n",
    "# 'add_snow'\n",
    "# 'add_shadow'\n",
    "# 'add_blur'\n",
    "# 'add_gaussian_noise'\n",
    "# 'random_shadows'\n",
    "# 'generate_night_effect' \n",
    "# 'generate_brightness'\n",
    "# 'generate_contrast_normalization'\n",
    "augmentation_functions = ['tweak_luminosity', 'generate_contrast_normalization']\n",
    "\n",
    "PROPORTION = 0.1"
   ]
  },
  {
   "cell_type": "code",
   "execution_count": null,
   "metadata": {
    "scrolled": true
   },
   "outputs": [],
   "source": [
    "print('{} samples'.format(len(X_train)))\n",
    "\n",
    "for augment in augmentation_functions:\n",
    "    if augment in transform_dict.keys():\n",
    "        print(augment)\n",
    "        f = transform_dict[augment]\n",
    "        X_transfo, Y_transfo = transform(X_train, Y_train, transformation=f, proportion=PROPORTION)\n",
    "        X_train = np.concatenate((X_train, X_transfo))\n",
    "        Y_train = np.concatenate((Y_train, Y_transfo)) \n",
    "        \n",
    "\n",
    "print('{} samples'.format(len(X_train)))"
   ]
  },
  {
   "cell_type": "code",
   "execution_count": null,
   "metadata": {
    "scrolled": true
   },
   "outputs": [],
   "source": [
    "len(X_train)"
   ]
  },
  {
   "cell_type": "code",
   "execution_count": null,
   "metadata": {},
   "outputs": [],
   "source": [
    "image_ori = np.concatenate((image_ori, image_HLS))"
   ]
  },
  {
   "cell_type": "code",
   "execution_count": null,
   "metadata": {},
   "outputs": [],
   "source": [
    "image_ori.shape"
   ]
  },
  {
   "cell_type": "code",
   "execution_count": null,
   "metadata": {},
   "outputs": [],
   "source": [
    "bight_x_train_5eme, bright_y_train_5eme = aug.generate_brightness(X_train, Y_train)\n",
    "bight_x_train_5eme, bright_y_train_5eme = aug.generate_night_effect(X_train, Y_train)\n",
    "bight_x_train_5eme, bright_y_train_5eme = aug.generate_random_shadows(X_train, Y_train)"
   ]
  },
  {
   "cell_type": "code",
   "execution_count": null,
   "metadata": {
    "scrolled": true
   },
   "outputs": [],
   "source": [
    "# fit model\n",
    "\n",
    "epochs=100\n",
    "steps=100\n",
    "verbose=1\n",
    "min_delta=.0005\n",
    "patience=5\n",
    "use_early_stop=True\n",
    "\n",
    "\n",
    "model = default_categorical()\n",
    "\n",
    "# checkpoint to save model after each epoch\n",
    "save_best = ModelCheckpoint(save_model_path,\n",
    "                            monitor='val_loss',\n",
    "                            verbose=verbose,\n",
    "                            save_best_only=True,\n",
    "                            mode='min')\n",
    "\n",
    "# stop training if the validation error stops improving.\n",
    "early_stop = EarlyStopping(monitor='val_loss',\n",
    "                           min_delta=min_delta,\n",
    "                           patience=patience,\n",
    "                           verbose=verbose,\n",
    "                           mode='auto')\n",
    "\n",
    "callbacks_list = [save_best]\n",
    "\n",
    "if use_early_stop:\n",
    "    callbacks_list.append(early_stop)\n",
    "\n",
    "model.summary()\n",
    "    \n",
    "# fit from numpy array\n",
    "#hist = model.fit(x=X_train,\n",
    "#                 y=Y_train,\n",
    "#                 steps_per_epoch=steps,\n",
    "#                 epochs=epochs,\n",
    "#                 verbose=1,\n",
    "#                 validation_data=(X_val, Y_val),\n",
    "#                 callbacks=callbacks_list,\n",
    "#                 validation_steps=200/8)\n",
    "\n",
    "# fit from generator\n",
    "data_gen = TubTo3DGenerator('/home/data/tortue-rapide/tubs/npy_format/tub_20181113_42_afternoon/', 46)\n",
    "\n",
    "hist = model.fit_generator(data_gen, \n",
    "                           steps_per_epoch=int(5000/46)+1,\n",
    "                          epochs=10)"
   ]
  },
  {
   "cell_type": "code",
   "execution_count": null,
   "metadata": {},
   "outputs": [],
   "source": []
  },
  {
   "cell_type": "code",
   "execution_count": 30,
   "metadata": {},
   "outputs": [],
   "source": [
    "from utils import TubTo3DGenerator"
   ]
  },
  {
   "cell_type": "code",
   "execution_count": 125,
   "metadata": {},
   "outputs": [],
   "source": [
    "a = TubTo3DGenerator('/home/data/tortue-rapide/tubs/raw/tub_20190502_bench_phu_low_tension//', \n",
    "                   batch_size=32, frames_per_stack=3, shuffle=True, frame_jump=4)"
   ]
  },
  {
   "cell_type": "code",
   "execution_count": 94,
   "metadata": {},
   "outputs": [
    {
     "data": {
      "text/plain": [
       "array([   1,    2,    3, ..., 4914, 4915, 4916])"
      ]
     },
     "execution_count": 94,
     "metadata": {},
     "output_type": "execute_result"
    }
   ],
   "source": [
    "a.indexes"
   ]
  },
  {
   "cell_type": "code",
   "execution_count": 126,
   "metadata": {
    "scrolled": true
   },
   "outputs": [],
   "source": [
    "X, y = a.__getitem__(0)"
   ]
  },
  {
   "cell_type": "code",
   "execution_count": 121,
   "metadata": {},
   "outputs": [
    {
     "data": {
      "text/plain": [
       "(32, 3, 120, 160, 3)"
      ]
     },
     "execution_count": 121,
     "metadata": {},
     "output_type": "execute_result"
    }
   ],
   "source": [
    "X.shape"
   ]
  },
  {
   "cell_type": "code",
   "execution_count": 37,
   "metadata": {},
   "outputs": [
    {
     "data": {
      "text/plain": [
       "Text(0.5, 1.0, '[0. 1. 0.]')"
      ]
     },
     "execution_count": 37,
     "metadata": {},
     "output_type": "execute_result"
    },
    {
     "data": {
      "image/png": "[encoded data removed]",
      "text/plain": [
       "<Figure size 432x288 with 1 Axes>"
      ]
     },
     "metadata": {
      "needs_background": "light"
     },
     "output_type": "display_data"
    }
   ],
   "source": [
    "import matplotlib.pyplot as plt\n",
    "\n",
    "n = 10\n",
    "\n",
    "plt.imshow(X[n][0]/255)\n",
    "plt.title(str(y[n]))"
   ]
  },
  {
   "cell_type": "code",
   "execution_count": 131,
   "metadata": {},
   "outputs": [
    {
     "data": {
      "image/png": "[encoded data removed]",
      "text/plain": [
       "<Figure size 936x1440 with 3 Axes>"
      ]
     },
     "metadata": {
      "needs_background": "light"
     },
     "output_type": "display_data"
    }
   ],
   "source": [
    "import matplotlib.pyplot as plt\n",
    "\n",
    "plt.figure(figsize=(13,20))\n",
    "frame = 9\n",
    "for n in range(a.frames_per_stack):\n",
    "  plt.subplot(5,3,n+1)\n",
    "  plt.imshow(X[frame][n]/255)\n",
    "  plt.title(str(y[frame]))\n",
    "  plt.axis('off')"
   ]
  },
  {
   "cell_type": "code",
   "execution_count": null,
   "metadata": {},
   "outputs": [],
   "source": [
    "from imageio import imread\n",
    "from tensorflow.python.keras.utils import to_categorical\n",
    "\n",
    "y = np.empty((64, 3), dtype=int)\n",
    "\n",
    "y[0] = to_categorical(.5, 3)"
   ]
  },
  {
   "cell_type": "code",
   "execution_count": null,
   "metadata": {},
   "outputs": [],
   "source": []
  },
  {
   "cell_type": "code",
   "execution_count": null,
   "metadata": {},
   "outputs": [],
   "source": [
    "from utils import generate_verified_tub_from_indexes\n",
    "\n",
    "generate_verified_tub_from_indexes(original_tub_path = '/home/data/tortue-rapide/tubs/raw/tub_20181124_morning_lesquare_horaire/', \n",
    "                      new_tub_path = '/home/data/tortue-rapide/tubs/raw/tub_20181124_morning_lesquare_horaire_VERIFIED/', \n",
    "                      verified_indexes = horaire)"
   ]
  },
  {
   "cell_type": "code",
   "execution_count": null,
   "metadata": {},
   "outputs": [],
   "source": [
    "generate_verified_tub_from_indexes(original_tub_path = '/home/data/tortue-rapide/tubs/raw/tub_20181124_morning_lesquare_antihoraire/', \n",
    "                      new_tub_path = '/home/data/tortue-rapide/tubs/raw/tub_20181124_morning_lesquare_antihoraire_VERIFIED/', \n",
    "                      verified_indexes = antihoraire)"
   ]
  },
  {
   "cell_type": "code",
   "execution_count": null,
   "metadata": {},
   "outputs": [],
   "source": []
  },
  {
   "cell_type": "code",
   "execution_count": null,
   "metadata": {},
   "outputs": [],
   "source": []
  },
  {
   "cell_type": "code",
   "execution_count": 2,
   "metadata": {},
   "outputs": [],
   "source": [
    "from albumentations.augmentations.transforms import Normalize\n",
    "from utils import newtub_to_array"
   ]
  },
  {
   "cell_type": "code",
   "execution_count": 3,
   "metadata": {},
   "outputs": [],
   "source": [
    "X_train, Y_train = newtub_to_array('/home/data/tortue-rapide/sets/raw/ysance_abbey_epingle_20190513/', n_class=3)\n",
    "#X_train = X_train/255-.5"
   ]
  },
  {
   "cell_type": "code",
   "execution_count": 4,
   "metadata": {},
   "outputs": [],
   "source": [
    "n = Normalize()"
   ]
  },
  {
   "cell_type": "code",
   "execution_count": 6,
   "metadata": {
    "scrolled": true
   },
   "outputs": [
    {
     "data": {
      "text/plain": [
       "array([[[-0.04580877,  0.15266107, -0.06152503],\n",
       "        [-0.04580877,  0.15266107, -0.06152503],\n",
       "        [-0.06293352,  0.13515407, -0.07895423],\n",
       "        ...,\n",
       "        [-1.5699118 , -1.160364  , -1.595294  ],\n",
       "        [-1.6555356 , -1.247899  , -1.68244   ],\n",
       "        [-1.7069099 , -1.30042   , -1.7347276 ]],\n",
       "\n",
       "       [[-0.02868401,  0.13515407, -0.06152503],\n",
       "        [-0.04580877,  0.15266107, -0.06152503],\n",
       "        [-0.06293352,  0.13515407, -0.07895423],\n",
       "        ...,\n",
       "        [-1.6041614 , -1.1953781 , -1.6301525 ],\n",
       "        [-1.6897851 , -1.2829131 , -1.7172984 ],\n",
       "        [-1.7411593 , -1.3354341 , -1.769586  ]],\n",
       "\n",
       "       [[-0.04580877,  0.11764707, -0.07895423],\n",
       "        [-0.06293352,  0.10014007, -0.09638342],\n",
       "        [-0.11430778,  0.08263307, -0.1312418 ],\n",
       "        ...,\n",
       "        [-1.6555356 , -1.247899  , -1.68244   ],\n",
       "        [-1.7240345 , -1.3179271 , -1.7521569 ],\n",
       "        [-1.7925336 , -1.3879551 , -1.8044444 ]],\n",
       "\n",
       "       ...,\n",
       "\n",
       "       [[-0.09718303, -0.05742294, -0.21838777],\n",
       "        [-0.09718303, -0.00490194, -0.18352939],\n",
       "        [-0.14855729, -0.05742294, -0.23581697],\n",
       "        ...,\n",
       "        [-0.35405433, -0.17997196, -0.46239647],\n",
       "        [-0.42255333, -0.24999997, -0.53211325],\n",
       "        [-0.5081771 , -0.33753496, -0.61925924]],\n",
       "\n",
       "       [[-0.13143253, -0.09243695, -0.25324616],\n",
       "        [-0.08005828,  0.01260506, -0.16610019],\n",
       "        [-0.14855729, -0.05742294, -0.23581697],\n",
       "        ...,\n",
       "        [-0.37117907, -0.19747896, -0.47982568],\n",
       "        [-0.4396781 , -0.26750696, -0.5495424 ],\n",
       "        [-0.5253019 , -0.35504198, -0.6366884 ]],\n",
       "\n",
       "       [[-0.14855729, -0.10994395, -0.27067536],\n",
       "        [-0.06293352,  0.03011206, -0.148671  ],\n",
       "        [-0.13143253, -0.03991594, -0.21838777],\n",
       "        ...,\n",
       "        [-0.37117907, -0.19747896, -0.47982568],\n",
       "        [-0.4396781 , -0.26750696, -0.5495424 ],\n",
       "        [-0.54242665, -0.37254897, -0.6541176 ]]], dtype=float32)"
      ]
     },
     "execution_count": 6,
     "metadata": {},
     "output_type": "execute_result"
    }
   ],
   "source": [
    "n.apply(X_train[0])"
   ]
  },
  {
   "cell_type": "code",
   "execution_count": 8,
   "metadata": {},
   "outputs": [
    {
     "data": {
      "text/plain": [
       "array([[[[-0.0254902 , -0.00980392, -0.10784314],\n",
       "         [-0.0254902 , -0.00980392, -0.10784314],\n",
       "         [-0.02941176, -0.01372549, -0.11176471],\n",
       "         ...,\n",
       "         [-0.3745098 , -0.30392157, -0.45294118],\n",
       "         [-0.39411765, -0.32352941, -0.47254902],\n",
       "         [-0.40588235, -0.33529412, -0.48431373]],\n",
       "\n",
       "        [[-0.02156863, -0.01372549, -0.10784314],\n",
       "         [-0.0254902 , -0.00980392, -0.10784314],\n",
       "         [-0.02941176, -0.01372549, -0.11176471],\n",
       "         ...,\n",
       "         [-0.38235294, -0.31176471, -0.46078431],\n",
       "         [-0.40196078, -0.33137255, -0.48039216],\n",
       "         [-0.41372549, -0.34313725, -0.49215686]],\n",
       "\n",
       "        [[-0.0254902 , -0.01764706, -0.11176471],\n",
       "         [-0.02941176, -0.02156863, -0.11568627],\n",
       "         [-0.04117647, -0.0254902 , -0.12352941],\n",
       "         ...,\n",
       "         [-0.39411765, -0.32352941, -0.47254902],\n",
       "         [-0.40980392, -0.33921569, -0.48823529],\n",
       "         [-0.4254902 , -0.35490196, -0.5       ]],\n",
       "\n",
       "        ...,\n",
       "\n",
       "        [[-0.0372549 , -0.05686275, -0.14313725],\n",
       "         [-0.0372549 , -0.04509804, -0.13529412],\n",
       "         [-0.04901961, -0.05686275, -0.14705882],\n",
       "         ...,\n",
       "         [-0.09607843, -0.08431373, -0.19803922],\n",
       "         [-0.11176471, -0.1       , -0.21372549],\n",
       "         [-0.13137255, -0.11960784, -0.23333333]],\n",
       "\n",
       "        [[-0.04509804, -0.06470588, -0.15098039],\n",
       "         [-0.03333333, -0.04117647, -0.13137255],\n",
       "         [-0.04901961, -0.05686275, -0.14705882],\n",
       "         ...,\n",
       "         [-0.1       , -0.08823529, -0.20196078],\n",
       "         [-0.11568627, -0.10392157, -0.21764706],\n",
       "         [-0.13529412, -0.12352941, -0.2372549 ]],\n",
       "\n",
       "        [[-0.04901961, -0.06862745, -0.15490196],\n",
       "         [-0.02941176, -0.0372549 , -0.12745098],\n",
       "         [-0.04509804, -0.05294118, -0.14313725],\n",
       "         ...,\n",
       "         [-0.1       , -0.08823529, -0.20196078],\n",
       "         [-0.11568627, -0.10392157, -0.21764706],\n",
       "         [-0.13921569, -0.12745098, -0.24117647]]],\n",
       "\n",
       "\n",
       "       [[[ 0.49215686,  0.48823529,  0.46862745],\n",
       "         [ 0.5       ,  0.5       ,  0.48039216],\n",
       "         [ 0.49607843,  0.5       ,  0.47254902],\n",
       "         ...,\n",
       "         [-0.08431373,  0.01372549, -0.1       ],\n",
       "         [-0.14705882, -0.03333333, -0.14313725],\n",
       "         [-0.14705882, -0.03333333, -0.14313725]],\n",
       "\n",
       "        [[ 0.48431373,  0.48039216,  0.46078431],\n",
       "         [ 0.5       ,  0.5       ,  0.47254902],\n",
       "         [ 0.49607843,  0.5       ,  0.46470588],\n",
       "         ...,\n",
       "         [-0.04509804,  0.0254902 , -0.07647059],\n",
       "         [-0.10784314, -0.02941176, -0.12745098],\n",
       "         [-0.11568627, -0.0372549 , -0.13529412]],\n",
       "\n",
       "        [[ 0.5       ,  0.5       ,  0.47254902],\n",
       "         [ 0.47647059,  0.48823529,  0.44509804],\n",
       "         [ 0.36666667,  0.39019608,  0.33529412],\n",
       "         ...,\n",
       "         [ 0.02156863,  0.03333333, -0.04901961],\n",
       "         [-0.06470588, -0.04509804, -0.13137255],\n",
       "         [-0.09607843, -0.07647059, -0.1627451 ]],\n",
       "\n",
       "        ...,\n",
       "\n",
       "        [[-0.15882353, -0.14705882, -0.22941176],\n",
       "         [-0.15490196, -0.14313725, -0.2254902 ],\n",
       "         [-0.15490196, -0.14313725, -0.2254902 ],\n",
       "         ...,\n",
       "         [-0.1       , -0.09215686, -0.1745098 ],\n",
       "         [-0.10392157, -0.09607843, -0.17843137],\n",
       "         [-0.12352941, -0.11568627, -0.19803922]],\n",
       "\n",
       "        [[-0.15490196, -0.14313725, -0.2254902 ],\n",
       "         [-0.15098039, -0.13921569, -0.22156863],\n",
       "         [-0.15098039, -0.13921569, -0.22156863],\n",
       "         ...,\n",
       "         [-0.1       , -0.09215686, -0.1745098 ],\n",
       "         [-0.10392157, -0.09607843, -0.17843137],\n",
       "         [-0.12352941, -0.11568627, -0.19803922]],\n",
       "\n",
       "        [[-0.15098039, -0.13921569, -0.22156863],\n",
       "         [-0.15098039, -0.13921569, -0.22156863],\n",
       "         [-0.14705882, -0.13529412, -0.21764706],\n",
       "         ...,\n",
       "         [-0.1       , -0.09215686, -0.1745098 ],\n",
       "         [-0.10392157, -0.09607843, -0.17843137],\n",
       "         [-0.12352941, -0.11568627, -0.19803922]]],\n",
       "\n",
       "\n",
       "       [[[-0.13921569, -0.05686275, -0.18627451],\n",
       "         [ 0.00588235,  0.08823529, -0.04117647],\n",
       "         [ 0.10392157,  0.18627451,  0.05686275],\n",
       "         ...,\n",
       "         [-0.07254902, -0.02156863, -0.13137255],\n",
       "         [-0.05294118, -0.01372549, -0.11960784],\n",
       "         [-0.04509804, -0.00588235, -0.11176471]],\n",
       "\n",
       "        [[-0.11960784, -0.0372549 , -0.16666667],\n",
       "         [ 0.02941176,  0.11176471, -0.01764706],\n",
       "         [ 0.10784314,  0.19019608,  0.06078431],\n",
       "         ...,\n",
       "         [-0.06862745, -0.01764706, -0.12745098],\n",
       "         [-0.06078431, -0.02156863, -0.12745098],\n",
       "         [-0.06470588, -0.0254902 , -0.13137255]],\n",
       "\n",
       "        [[-0.07647059,  0.00588235, -0.12352941],\n",
       "         [ 0.06862745,  0.15098039,  0.02156863],\n",
       "         [ 0.11176471,  0.19411765,  0.06470588],\n",
       "         ...,\n",
       "         [-0.10392157, -0.05294118, -0.15490196],\n",
       "         [-0.11960784, -0.08039216, -0.17843137],\n",
       "         [-0.13529412, -0.09607843, -0.20196078]],\n",
       "\n",
       "        ...,\n",
       "\n",
       "        [[-0.0372549 , -0.04509804, -0.14313725],\n",
       "         [-0.0372549 , -0.04509804, -0.14313725],\n",
       "         [-0.03333333, -0.04117647, -0.13921569],\n",
       "         ...,\n",
       "         [-0.08823529, -0.08039216, -0.1745098 ],\n",
       "         [-0.09607843, -0.08823529, -0.18235294],\n",
       "         [-0.11568627, -0.10784314, -0.20196078]],\n",
       "\n",
       "        [[-0.03333333, -0.04117647, -0.13921569],\n",
       "         [-0.03333333, -0.04117647, -0.13921569],\n",
       "         [-0.03333333, -0.04117647, -0.13921569],\n",
       "         ...,\n",
       "         [-0.08823529, -0.08039216, -0.1745098 ],\n",
       "         [-0.09607843, -0.08823529, -0.18235294],\n",
       "         [-0.11568627, -0.10784314, -0.20196078]],\n",
       "\n",
       "        [[-0.03333333, -0.03333333, -0.13529412],\n",
       "         [-0.0372549 , -0.0372549 , -0.13921569],\n",
       "         [-0.04117647, -0.04117647, -0.14313725],\n",
       "         ...,\n",
       "         [-0.08823529, -0.08039216, -0.1745098 ],\n",
       "         [-0.09607843, -0.08823529, -0.18235294],\n",
       "         [-0.11960784, -0.11176471, -0.20588235]]],\n",
       "\n",
       "\n",
       "       ...,\n",
       "\n",
       "\n",
       "       [[[-0.01372549,  0.03333333, -0.10784314],\n",
       "         [-0.01372549,  0.03333333, -0.10784314],\n",
       "         [-0.00588235,  0.04117647, -0.1       ],\n",
       "         ...,\n",
       "         [ 0.30784314,  0.44117647,  0.31176471],\n",
       "         [ 0.29215686,  0.4254902 ,  0.29607843],\n",
       "         [ 0.28039216,  0.41372549,  0.28431373]],\n",
       "\n",
       "        [[-0.00980392,  0.0372549 , -0.10392157],\n",
       "         [-0.00588235,  0.04117647, -0.1       ],\n",
       "         [-0.00196078,  0.04509804, -0.09607843],\n",
       "         ...,\n",
       "         [ 0.32352941,  0.45686275,  0.32745098],\n",
       "         [ 0.30784314,  0.44117647,  0.31176471],\n",
       "         [ 0.29607843,  0.42941176,  0.3       ]],\n",
       "\n",
       "        [[-0.00196078,  0.04509804, -0.09607843],\n",
       "         [ 0.00196078,  0.04901961, -0.09215686],\n",
       "         [ 0.00588235,  0.05294118, -0.08823529],\n",
       "         ...,\n",
       "         [ 0.33137255,  0.45294118,  0.32745098],\n",
       "         [ 0.31960784,  0.44117647,  0.31568627],\n",
       "         [ 0.31176471,  0.43333333,  0.30784314]],\n",
       "\n",
       "        ...,\n",
       "\n",
       "        [[-0.11176471, -0.11176471, -0.22156863],\n",
       "         [-0.11176471, -0.11176471, -0.22156863],\n",
       "         [-0.10784314, -0.10784314, -0.21764706],\n",
       "         ...,\n",
       "         [-0.0372549 , -0.03333333, -0.15490196],\n",
       "         [-0.04901961, -0.04509804, -0.16666667],\n",
       "         [-0.07254902, -0.06862745, -0.19019608]],\n",
       "\n",
       "        [[-0.12352941, -0.12352941, -0.23333333],\n",
       "         [-0.11960784, -0.11960784, -0.22941176],\n",
       "         [-0.11176471, -0.11176471, -0.22156863],\n",
       "         ...,\n",
       "         [-0.04117647, -0.0372549 , -0.15882353],\n",
       "         [-0.05294118, -0.04901961, -0.17058824],\n",
       "         [-0.07254902, -0.06862745, -0.19019608]],\n",
       "\n",
       "        [[-0.13137255, -0.13137255, -0.24117647],\n",
       "         [-0.12352941, -0.12352941, -0.23333333],\n",
       "         [-0.11176471, -0.11176471, -0.22156863],\n",
       "         ...,\n",
       "         [-0.04117647, -0.0372549 , -0.15882353],\n",
       "         [-0.05294118, -0.04901961, -0.17058824],\n",
       "         [-0.07647059, -0.07254902, -0.19411765]]],\n",
       "\n",
       "\n",
       "       [[[-0.0254902 , -0.00588235, -0.08431373],\n",
       "         [-0.00196078,  0.01764706, -0.06078431],\n",
       "         [ 0.00980392,  0.02941176, -0.04901961],\n",
       "         ...,\n",
       "         [ 0.32352941,  0.45686275,  0.35098039],\n",
       "         [ 0.29607843,  0.4372549 ,  0.32745098],\n",
       "         [ 0.28431373,  0.4254902 ,  0.31568627]],\n",
       "\n",
       "        [[-0.04117647, -0.02156863, -0.1       ],\n",
       "         [-0.00588235,  0.01372549, -0.06470588],\n",
       "         [ 0.02156863,  0.04117647, -0.0372549 ],\n",
       "         ...,\n",
       "         [ 0.30392157,  0.4372549 ,  0.33921569],\n",
       "         [ 0.28823529,  0.42941176,  0.32745098],\n",
       "         [ 0.28823529,  0.42941176,  0.32745098]],\n",
       "\n",
       "        [[-0.06862745, -0.04901961, -0.12745098],\n",
       "         [-0.01372549,  0.00588235, -0.07254902],\n",
       "         [ 0.03333333,  0.05294118, -0.0254902 ],\n",
       "         ...,\n",
       "         [ 0.28039216,  0.40588235,  0.31176471],\n",
       "         [ 0.26078431,  0.39411765,  0.29607843],\n",
       "         [ 0.25686275,  0.39019608,  0.29215686]],\n",
       "\n",
       "        ...,\n",
       "\n",
       "        [[-0.1       , -0.10392157, -0.18235294],\n",
       "         [-0.09607843, -0.1       , -0.17843137],\n",
       "         [-0.09607843, -0.1       , -0.17843137],\n",
       "         ...,\n",
       "         [-0.07254902, -0.06470588, -0.15098039],\n",
       "         [-0.08039216, -0.07254902, -0.15882353],\n",
       "         [-0.10392157, -0.09607843, -0.18235294]],\n",
       "\n",
       "        [[-0.1       , -0.10392157, -0.18235294],\n",
       "         [-0.1       , -0.10392157, -0.18235294],\n",
       "         [-0.09607843, -0.1       , -0.17843137],\n",
       "         ...,\n",
       "         [-0.06862745, -0.06078431, -0.14705882],\n",
       "         [-0.08039216, -0.07254902, -0.15882353],\n",
       "         [-0.1       , -0.09215686, -0.17843137]],\n",
       "\n",
       "        [[-0.10392157, -0.10784314, -0.18627451],\n",
       "         [-0.1       , -0.10392157, -0.18235294],\n",
       "         [-0.09607843, -0.1       , -0.17843137],\n",
       "         ...,\n",
       "         [-0.06862745, -0.06078431, -0.14705882],\n",
       "         [-0.08039216, -0.07254902, -0.15882353],\n",
       "         [-0.1       , -0.09215686, -0.17843137]]],\n",
       "\n",
       "\n",
       "       [[[ 0.0254902 ,  0.04901961, -0.06078431],\n",
       "         [ 0.0372549 ,  0.06078431, -0.04901961],\n",
       "         [ 0.05686275,  0.08431373, -0.0372549 ],\n",
       "         ...,\n",
       "         [ 0.04509804,  0.13137255,  0.04901961],\n",
       "         [ 0.16666667,  0.25294118,  0.17058824],\n",
       "         [ 0.44901961,  0.5       ,  0.45294118]],\n",
       "\n",
       "        [[ 0.0372549 ,  0.06078431, -0.04117647],\n",
       "         [ 0.04901961,  0.07254902, -0.0372549 ],\n",
       "         [ 0.06078431,  0.08823529, -0.03333333],\n",
       "         ...,\n",
       "         [ 0.01764706,  0.1       ,  0.0254902 ],\n",
       "         [ 0.11960784,  0.20196078,  0.12745098],\n",
       "         [ 0.38235294,  0.46470588,  0.39019608]],\n",
       "\n",
       "        [[ 0.05294118,  0.07647059, -0.0254902 ],\n",
       "         [ 0.06078431,  0.08431373, -0.0254902 ],\n",
       "         [ 0.07647059,  0.10392157, -0.01764706],\n",
       "         ...,\n",
       "         [-0.02156863,  0.06078431,  0.00196078],\n",
       "         [ 0.04117647,  0.12352941,  0.06470588],\n",
       "         [ 0.22156863,  0.30392157,  0.24509804]],\n",
       "\n",
       "        ...,\n",
       "\n",
       "        [[-0.04509804, -0.05294118, -0.15098039],\n",
       "         [-0.04117647, -0.04901961, -0.14705882],\n",
       "         [-0.0372549 , -0.04509804, -0.14313725],\n",
       "         ...,\n",
       "         [-0.04901961, -0.04901961, -0.15098039],\n",
       "         [-0.06078431, -0.06078431, -0.1627451 ],\n",
       "         [-0.08039216, -0.08039216, -0.18235294]],\n",
       "\n",
       "        [[-0.04117647, -0.04901961, -0.14705882],\n",
       "         [-0.04117647, -0.04901961, -0.14705882],\n",
       "         [-0.03333333, -0.04117647, -0.13921569],\n",
       "         ...,\n",
       "         [-0.04901961, -0.04901961, -0.15098039],\n",
       "         [-0.06078431, -0.06078431, -0.1627451 ],\n",
       "         [-0.08039216, -0.08039216, -0.18235294]],\n",
       "\n",
       "        [[-0.04509804, -0.04509804, -0.14705882],\n",
       "         [-0.04117647, -0.04117647, -0.14313725],\n",
       "         [-0.03333333, -0.03333333, -0.13529412],\n",
       "         ...,\n",
       "         [-0.04901961, -0.04901961, -0.15098039],\n",
       "         [-0.06078431, -0.06078431, -0.1627451 ],\n",
       "         [-0.08039216, -0.08039216, -0.18235294]]]])"
      ]
     },
     "execution_count": 8,
     "metadata": {},
     "output_type": "execute_result"
    }
   ],
   "source": [
    "X_train/255-.5"
   ]
  }
 ],
 "metadata": {
  "kernelspec": {
   "display_name": "Python 3",
   "language": "python",
   "name": "python3"
  },
  "language_info": {
   "codemirror_mode": {
    "name": "ipython",
    "version": 3
   },
   "file_extension": ".py",
   "mimetype": "text/x-python",
   "name": "python",
   "nbconvert_exporter": "python",
   "pygments_lexer": "ipython3",
   "version": "3.5.2"
  }
 },
 "nbformat": 4,
 "nbformat_minor": 2
}
