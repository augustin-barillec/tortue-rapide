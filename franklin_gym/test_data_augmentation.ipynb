{
 "cells": [
  {
   "cell_type": "code",
   "execution_count": 2,
   "metadata": {},
   "outputs": [
    {
     "name": "stdout",
     "output_type": "stream",
     "text": [
      "using donkey v2.5.1 ...\n"
     ]
    }
   ],
   "source": [
    "import numpy as np\n",
    "import glob\n",
    "import json\n",
    "import os\n",
    "from PIL import Image\n",
    "\n",
    "import matplotlib.pyplot as plt\n",
    "\n",
    "from donkeycar.util.data import linear_bin\n",
    "from donkeycar.parts.keras import default_categorical\n",
    "from tensorflow.python.keras.callbacks import ModelCheckpoint, EarlyStopping"
   ]
  },
  {
   "cell_type": "code",
   "execution_count": 15,
   "metadata": {
    "collapsed": true
   },
   "outputs": [
    {
     "name": "stdout",
     "output_type": "stream",
     "text": [
      "Looking in indexes: https://rec-nexus.dmp.y-track.com/repository/pypi-all/simple\n",
      "Requirement already satisfied: matplotlib in /home/ysance.local/r.carmona-hagelsteen/envs/ironcar-tests/lib/python3.5/site-packages (3.0.2)\n",
      "Requirement already satisfied: cycler>=0.10 in /home/ysance.local/r.carmona-hagelsteen/envs/ironcar-tests/lib/python3.5/site-packages (from matplotlib) (0.10.0)\n",
      "Requirement already satisfied: numpy>=1.10.0 in /home/ysance.local/r.carmona-hagelsteen/envs/ironcar-tests/lib/python3.5/site-packages (from matplotlib) (1.15.4)\n",
      "Requirement already satisfied: kiwisolver>=1.0.1 in /home/ysance.local/r.carmona-hagelsteen/envs/ironcar-tests/lib/python3.5/site-packages (from matplotlib) (1.0.1)\n",
      "Requirement already satisfied: pyparsing!=2.0.4,!=2.1.2,!=2.1.6,>=2.0.1 in /home/ysance.local/r.carmona-hagelsteen/envs/ironcar-tests/lib/python3.5/site-packages (from matplotlib) (2.3.0)\n",
      "Requirement already satisfied: python-dateutil>=2.1 in /home/ysance.local/r.carmona-hagelsteen/envs/ironcar-tests/lib/python3.5/site-packages (from matplotlib) (2.7.5)\n",
      "Requirement already satisfied: six in /home/ysance.local/r.carmona-hagelsteen/envs/ironcar-tests/lib/python3.5/site-packages (from cycler>=0.10->matplotlib) (1.12.0)\n",
      "Requirement already satisfied: setuptools in /home/ysance.local/r.carmona-hagelsteen/envs/ironcar-tests/lib/python3.5/site-packages (from kiwisolver>=1.0.1->matplotlib) (20.7.0)\n"
     ]
    }
   ],
   "source": [
    "%%bash\n",
    "pip install matplotlib"
   ]
  },
  {
   "cell_type": "code",
   "execution_count": 3,
   "metadata": {},
   "outputs": [],
   "source": [
    "train_tub_42 = '/home/projects/ironcar-dev/tubs/tub_20181113_42_evening/'\n",
    "train_tub_5eme = '/home/projects/ironcar-dev/tubs/tub_20181122_ysance_noon/'\n",
    "val_tub_race = '/home/projects/ironcar-dev/tubs/tub_20181124_morning_lesquare_horaire/'\n",
    "\n",
    "img_example = '/home/projects/ironcar-dev/tubs/tub_20181124_morning_lesquare_antihoraire/291_cam-image_array_.jpg'\n",
    "json_exple = '/home/projects/ironcar-dev/tubs/tub_20181124_morning_lesquare_antihoraire/record_291.json'"
   ]
  },
  {
   "cell_type": "code",
   "execution_count": 4,
   "metadata": {},
   "outputs": [],
   "source": [
    "def convert_angle_to_categorical(value):\n",
    "    res = []\n",
    "\n",
    "    for n in value:\n",
    "        res.append(linear_bin(n))\n",
    "    \n",
    "    return np.asarray(res)"
   ]
  },
  {
   "cell_type": "code",
   "execution_count": 5,
   "metadata": {},
   "outputs": [],
   "source": [
    "def tub_to_array(tub_path, n_first_files=None):\n",
    "    \"\"\"\n",
    "    Return dict of Numpy arrays containing pixel images and associated values of angle and throttle from a tub path\n",
    "\n",
    "    tub_path: str\n",
    "        path of tub to convert\n",
    "    n_first_files: int\n",
    "        \n",
    "    \"\"\"\n",
    "    pics_list = glob.glob(tub_path + '/*.jpg')\n",
    "    records_list = glob.glob(tub_path + \"/record_*.json\")\n",
    "    \n",
    "    pics_list.sort(key=lambda x: int(os.path.basename(x).split('_')[0]))\n",
    "    records_list.sort(key=lambda x: int(os.path.basename(x).split('_')[1].split('.')[0]))\n",
    "    \n",
    "    pics_list = pics_list[:n_first_files]\n",
    "    records_list = records_list[:n_first_files]\n",
    "    \n",
    "    meta_path = tub_path + \"/meta.json\"\n",
    "\n",
    "    x = np.array([np.array(Image.open(fname)) for fname in pics_list])\n",
    "    y_angle = []\n",
    "    y_throttle = []\n",
    "    for file in records_list:\n",
    "        with open(file, 'r') as f:\n",
    "            record = json.load(f)\n",
    "            y_angle.append(record['user/angle'])\n",
    "            y_throttle.append(record['user/throttle'])\n",
    "    \n",
    "    y = {'angle': np.asarray(y_angle), \n",
    "         'throttle': np.asarray(y_throttle)}\n",
    "    \n",
    "    return x, y"
   ]
  },
  {
   "cell_type": "code",
   "execution_count": 6,
   "metadata": {},
   "outputs": [],
   "source": [
    "# train validation split\n",
    "\n",
    "#x_train_42, y_train_42 = tub_to_array(train_tub_42)\n",
    "x_train_5eme, y_train_5eme = tub_to_array(train_tub_5eme)\n",
    "y_train_5eme['angle_categorical'] = convert_angle_to_categorical(y_train_5eme['angle']) \n",
    "\n",
    "x_val, y_val = tub_to_array(val_tub_race, n_first_files=500)\n",
    "y_val['angle_categorical'] = convert_angle_to_categorical(y_val['angle'])\n"
   ]
  },
  {
   "cell_type": "code",
   "execution_count": null,
   "metadata": {},
   "outputs": [],
   "source": []
  },
  {
   "cell_type": "code",
   "execution_count": 148,
   "metadata": {},
   "outputs": [],
   "source": []
  },
  {
   "cell_type": "code",
   "execution_count": 7,
   "metadata": {},
   "outputs": [
    {
     "name": "stdout",
     "output_type": "stream",
     "text": [
      "__________________________________________________________________________________________________\n",
      "Layer (type)                    Output Shape         Param #     Connected to                     \n",
      "==================================================================================================\n",
      "img_in (InputLayer)             (None, 120, 160, 3)  0                                            \n",
      "__________________________________________________________________________________________________\n",
      "conv2d_1 (Conv2D)               (None, 58, 78, 24)   1824        img_in[0][0]                     \n",
      "__________________________________________________________________________________________________\n",
      "conv2d_2 (Conv2D)               (None, 27, 37, 32)   19232       conv2d_1[0][0]                   \n",
      "__________________________________________________________________________________________________\n",
      "conv2d_3 (Conv2D)               (None, 12, 17, 64)   51264       conv2d_2[0][0]                   \n",
      "__________________________________________________________________________________________________\n",
      "conv2d_4 (Conv2D)               (None, 5, 8, 64)     36928       conv2d_3[0][0]                   \n",
      "__________________________________________________________________________________________________\n",
      "conv2d_5 (Conv2D)               (None, 3, 6, 64)     36928       conv2d_4[0][0]                   \n",
      "__________________________________________________________________________________________________\n",
      "flattened (Flatten)             (None, 1152)         0           conv2d_5[0][0]                   \n",
      "__________________________________________________________________________________________________\n",
      "dense_1 (Dense)                 (None, 100)          115300      flattened[0][0]                  \n",
      "__________________________________________________________________________________________________\n",
      "dropout_1 (Dropout)             (None, 100)          0           dense_1[0][0]                    \n",
      "__________________________________________________________________________________________________\n",
      "dense_2 (Dense)                 (None, 50)           5050        dropout_1[0][0]                  \n",
      "__________________________________________________________________________________________________\n",
      "dropout_2 (Dropout)             (None, 50)           0           dense_2[0][0]                    \n",
      "__________________________________________________________________________________________________\n",
      "angle_out (Dense)               (None, 15)           765         dropout_2[0][0]                  \n",
      "__________________________________________________________________________________________________\n",
      "throttle_out (Dense)            (None, 1)            51          dropout_2[0][0]                  \n",
      "==================================================================================================\n",
      "Total params: 267,342\n",
      "Trainable params: 267,342\n",
      "Non-trainable params: 0\n",
      "__________________________________________________________________________________________________\n"
     ]
    }
   ],
   "source": [
    "# fit model\n",
    "\n",
    "epochs=100\n",
    "steps=100\n",
    "verbose=1\n",
    "min_delta=.0005\n",
    "patience=5\n",
    "use_early_stop=True\n",
    "saved_model_path = '/home/projects/ironcar-dev/test_models'\n",
    "\n",
    "\n",
    "model = default_categorical()\n",
    "\n",
    "# checkpoint to save model after each epoch\n",
    "save_best = ModelCheckpoint(saved_model_path,\n",
    "                            monitor='val_loss',\n",
    "                            verbose=verbose,\n",
    "                            save_best_only=True,\n",
    "                            mode='min')\n",
    "\n",
    "# stop training if the validation error stops improving.\n",
    "early_stop = EarlyStopping(monitor='val_loss',\n",
    "                           min_delta=min_delta,\n",
    "                           patience=patience,\n",
    "                           verbose=verbose,\n",
    "                           mode='auto')\n",
    "\n",
    "callbacks_list = [save_best]\n",
    "\n",
    "if use_early_stop:\n",
    "    callbacks_list.append(early_stop)\n",
    "\n",
    "model.summary()\n",
    "    \n",
    "# fit from numpy array\n",
    "# hist = model.fit(x=x_train_5eme,\n",
    "#                 y=[y_train_5eme['angle_categorical'], y_train_5eme['throttle']],\n",
    "#                 steps_per_epoch=steps,\n",
    "#                 epochs=epochs,\n",
    "#                 verbose=1,\n",
    "#                 validation_data=(x_val, [y_val['angle_categorical'], y_val['throttle']]),\n",
    "#                 callbacks=callbacks_list,\n",
    "#                 validation_steps=200/8)"
   ]
  },
  {
   "cell_type": "code",
   "execution_count": null,
   "metadata": {},
   "outputs": [],
   "source": []
  },
  {
   "cell_type": "code",
   "execution_count": null,
   "metadata": {},
   "outputs": [],
   "source": []
  },
  {
   "cell_type": "code",
   "execution_count": null,
   "metadata": {},
   "outputs": [],
   "source": []
  },
  {
   "cell_type": "code",
   "execution_count": null,
   "metadata": {},
   "outputs": [],
   "source": []
  },
  {
   "cell_type": "code",
   "execution_count": null,
   "metadata": {},
   "outputs": [],
   "source": []
  },
  {
   "cell_type": "code",
   "execution_count": null,
   "metadata": {},
   "outputs": [],
   "source": []
  },
  {
   "cell_type": "code",
   "execution_count": 92,
   "metadata": {},
   "outputs": [
    {
     "data": {
      "image/png": "[encoded data removed]",
      "text/plain": [
       "<Figure size 432x288 with 1 Axes>"
      ]
     },
     "metadata": {
      "needs_background": "light"
     },
     "output_type": "display_data"
    }
   ],
   "source": [
    "# histogram of Y values\n",
    "\n",
    "y_angle = y_train_5eme[0]\n",
    "\n",
    "plt.hist(y_angle, bins='auto')\n",
    "plt.show()"
   ]
  },
  {
   "cell_type": "code",
   "execution_count": 86,
   "metadata": {},
   "outputs": [
    {
     "data": {
      "text/plain": [
       "array([0., 0., 0., ..., 1., 1., 1.])"
      ]
     },
     "execution_count": 86,
     "metadata": {},
     "output_type": "execute_result"
    }
   ],
   "source": []
  },
  {
   "cell_type": "markdown",
   "metadata": {},
   "source": [
    "Structure:\n",
    "- import data\n",
    "- train (3 tubs) / test (1 different tub) split\n",
    "- apply data augmentations\n",
    "- train + validate\n",
    "\n",
    "Interface\n",
    "testor.benchmark([['processing1', 'processing2'], \n",
    "                  ['processing4', 'processing2', 'processing5']])"
   ]
  },
  {
   "cell_type": "code",
   "execution_count": null,
   "metadata": {},
   "outputs": [],
   "source": []
  },
  {
   "cell_type": "code",
   "execution_count": null,
   "metadata": {},
   "outputs": [],
   "source": []
  },
  {
   "cell_type": "code",
   "execution_count": null,
   "metadata": {},
   "outputs": [],
   "source": []
  }
 ],
 "metadata": {
  "kernelspec": {
   "display_name": "Python 3",
   "language": "python",
   "name": "python3"
  },
  "language_info": {
   "codemirror_mode": {
    "name": "ipython",
    "version": 3
   },
   "file_extension": ".py",
   "mimetype": "text/x-python",
   "name": "python",
   "nbconvert_exporter": "python",
   "pygments_lexer": "ipython3",
   "version": "3.5.2"
  }
 },
 "nbformat": 4,
 "nbformat_minor": 2
}
