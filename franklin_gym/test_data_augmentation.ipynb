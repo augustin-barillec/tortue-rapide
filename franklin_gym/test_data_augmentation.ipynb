{
 "cells": [
  {
   "cell_type": "code",
   "execution_count": 4,
   "metadata": {},
   "outputs": [],
   "source": [
    "import numpy as np\n",
    "import glob\n",
    "import json\n",
    "import os\n",
    "from PIL import Image\n",
    "import random\n",
    "import matplotlib.pyplot as plt\n",
    "from tqdm import tqdm\n",
    "import cv2\n",
    "\n",
    "from imgaug import augmenters as iaa\n",
    "from tensorflow.python.keras.callbacks import ModelCheckpoint, EarlyStopping\n",
    "\n",
    "from augmentation import *\n",
    "from model import default_categorical\n",
    "from utils import linear_bin, tub_to_array, rebalance"
   ]
  },
  {
   "cell_type": "code",
   "execution_count": 41,
   "metadata": {},
   "outputs": [],
   "source": [
    "# AVAILABLE TUBS\n",
    "tub_20181113_42_afternoon = '/home/data/tortue-rapide/tubs/raw/tub_20181113_42_afternoon'\n",
    "tub_20181113_42_evening = '/home/data/tortue-rapide/tubs/raw/tub_20181113_42_evening'\n",
    "tub_20181124_morning_lesquare_horaire = '/home/data/tortue-rapide/tubs/raw/tub_20181124_morning_lesquare_horaire'\n",
    "tub_20181124_morning_lesquare_antihoraire = '/home/data/tortue-rapide/tubs/raw/tub_20181124_morning_lesquare_antihoraire'\n",
    "tub_20181122_ysance_noon = '/home/data/tortue-rapide/tubs/raw/tub_20181122_ysance_noon'\n",
    "\n",
    "# EXAMPLES\n",
    "img_example = '/home/projects/ironcar-dev/tubs/tub_20181124_morning_lesquare_antihoraire/291_cam-image_array_.jpg'\n",
    "json_exple = '/home/projects/ironcar-dev/tubs/tub_20181124_morning_lesquare_antihoraire/record_291.json'\n",
    "\n",
    "save_model_path = '/home/projects/tortue-rapide/franklin_gym/test_models'\n",
    "\n",
    "# convert tubs to numpy arrays\n",
    "x_42_afternoon, y_42_afternoon = tub_to_array(tub_20181113_42_afternoon, n_class=3)\n",
    "x_42_evening, y_42_evening = tub_to_array(tub_20181113_42_evening, n_class=3)\n",
    "x_morning_lesquare_horaire, y_morning_lesquare_horaire = tub_to_array(tub_20181124_morning_lesquare_horaire, n_class=3)\n",
    "x_morning_lesquare_antihoraire, y_morning_lesquare_antihoraire = tub_to_array(tub_20181124_morning_lesquare_antihoraire, n_class=3)\n",
    "X_ysance_noon, Y_ysance_noon = tub_to_array(tub_20181122_ysance_noon, n_class=3)\n",
    "\n",
    "# rebalance ecole 42 tubs  classes\n",
    "x_42_afternoon, y_42_afternoon = rebalance(x_42_afternoon, y_42_afternoon)\n",
    "x_42_evening, y_42_evening = rebalance(x_42_evening, y_42_evening)\n",
    "x_morning_lesquare_horaire, y_morning_lesquare_horaire = rebalance(x_morning_lesquare_horaire, y_morning_lesquare_horaire)\n",
    "\n",
    "# train / validation split\n",
    "X_train = np.concatenate((x_42_afternoon, x_morning_lesquare_antihoraire, x_morning_lesquare_horaire))\n",
    "Y_train = np.concatenate((y_42_afternoon, y_morning_lesquare_antihoraire, y_morning_lesquare_horaire)) \n",
    "X_val, Y_val = X_ysance_noon[:20000], Y_ysance_noon[:20000]"
   ]
  },
  {
   "cell_type": "code",
   "execution_count": 44,
   "metadata": {},
   "outputs": [
    {
     "data": {
      "text/plain": [
       "(10000, 5114)"
      ]
     },
     "execution_count": 44,
     "metadata": {},
     "output_type": "execute_result"
    }
   ],
   "source": [
    "len(X_train), len(X_val)"
   ]
  },
  {
   "cell_type": "code",
   "execution_count": 18,
   "metadata": {},
   "outputs": [],
   "source": [
    "a = np.array([1, 2, 3])"
   ]
  },
  {
   "cell_type": "code",
   "execution_count": 30,
   "metadata": {},
   "outputs": [],
   "source": []
  },
  {
   "cell_type": "code",
   "execution_count": 43,
   "metadata": {},
   "outputs": [
    {
     "data": {
      "image/png": "[encoded data removed]",
      "text/plain": [
       "<Figure size 432x288 with 1 Axes>"
      ]
     },
     "metadata": {
      "needs_background": "light"
     },
     "output_type": "display_data"
    }
   ],
   "source": [
    "import matplotlib.pyplot as plt\n",
    "\n",
    "def plot_hist(Y):\n",
    "    '''\n",
    "    Y : categorical numpy array'''\n",
    "    fi = [sum(n * a) for n in Y]\n",
    "    plt.hist(fi, bins='auto')\n",
    "\n",
    "plot_hist(Y_train)"
   ]
  },
  {
   "cell_type": "code",
   "execution_count": 42,
   "metadata": {},
   "outputs": [
    {
     "data": {
      "image/png": "[encoded data removed]",
      "text/plain": [
       "<Figure size 432x288 with 1 Axes>"
      ]
     },
     "metadata": {
      "needs_background": "light"
     },
     "output_type": "display_data"
    }
   ],
   "source": [
    "plot_hist(Y_val)"
   ]
  },
  {
   "cell_type": "code",
   "execution_count": 2,
   "metadata": {
    "scrolled": true
   },
   "outputs": [],
   "source": [
    "# MAP DATA PREPARATION\n",
    "\n",
    "train_tubs = ['tub_20181113_42_afternoon', \n",
    "              'tub_20181113_42_evening',\n",
    "              'tub_20181124_morning_lesquare_antihoraire']\n",
    "validation_tubs = ['tub_20181122_ysance_noon']\n",
    "\n",
    "rebalance_tubs = ['tub_20181113_42_afternoon', \n",
    "                  'tub_20181113_42_evening']\n",
    "\n",
    "# 'tweak_luminosity'\n",
    "# 'add_snow'\n",
    "# 'add_shadow'\n",
    "# 'add_blur'\n",
    "# 'add_gaussian_noise'\n",
    "# 'random_shadows'\n",
    "# 'generate_night_effect' \n",
    "# 'generate_brightness'\n",
    "# 'generate_contrast_normalization'\n",
    "augmentation_functions = ['tweak_luminosity', 'generate_contrast_normalization']\n",
    "\n",
    "PROPORTION = 0.1"
   ]
  },
  {
   "cell_type": "code",
   "execution_count": 48,
   "metadata": {},
   "outputs": [
    {
     "name": "stderr",
     "output_type": "stream",
     "text": [
      " 21%|██        | 251/1210 [00:00<00:00, 2505.63it/s]"
     ]
    },
    {
     "name": "stdout",
     "output_type": "stream",
     "text": [
      "12100 samples\n",
      "tweak_luminosity\n"
     ]
    },
    {
     "name": "stderr",
     "output_type": "stream",
     "text": [
      "100%|██████████| 1210/1210 [00:00<00:00, 2917.45it/s]\n"
     ]
    },
    {
     "name": "stdout",
     "output_type": "stream",
     "text": [
      "13310 samples\n"
     ]
    }
   ],
   "source": [
    "print('{} samples'.format(len(X_train)))\n",
    "\n",
    "for augment in augmentation_functions:\n",
    "    if augment in transform_dict.keys():\n",
    "        print(augment)\n",
    "        f = transform_dict[augment]\n",
    "        X_transfo, Y_transfo = transform(X_train, Y_train, transformation=f, proportion=PROPORTION)\n",
    "        X_train = np.concatenate((X_train, X_transfo))\n",
    "        Y_train = np.concatenate((Y_train, Y_transfo)) \n",
    "        \n",
    "\n",
    "print('{} samples'.format(len(X_train)))"
   ]
  },
  {
   "cell_type": "code",
   "execution_count": 11,
   "metadata": {
    "scrolled": true
   },
   "outputs": [
    {
     "data": {
      "text/plain": [
       "7965"
      ]
     },
     "execution_count": 11,
     "metadata": {},
     "output_type": "execute_result"
    }
   ],
   "source": [
    "len(X_train)"
   ]
  },
  {
   "cell_type": "code",
   "execution_count": 220,
   "metadata": {},
   "outputs": [],
   "source": [
    "image_ori = np.concatenate((image_ori, image_HLS))"
   ]
  },
  {
   "cell_type": "code",
   "execution_count": 221,
   "metadata": {},
   "outputs": [
    {
     "data": {
      "text/plain": [
       "(125, 120, 160, 3)"
      ]
     },
     "execution_count": 221,
     "metadata": {},
     "output_type": "execute_result"
    }
   ],
   "source": [
    "image_ori.shape"
   ]
  },
  {
   "cell_type": "code",
   "execution_count": null,
   "metadata": {},
   "outputs": [],
   "source": [
    "bight_x_train_5eme, bright_y_train_5eme = aug.generate_brightness(X_train, Y_train)\n",
    "bight_x_train_5eme, bright_y_train_5eme = aug.generate_night_effect(X_train, Y_train)\n",
    "bight_x_train_5eme, bright_y_train_5eme = aug.generate_random_shadows(X_train, Y_train)"
   ]
  },
  {
   "cell_type": "code",
   "execution_count": null,
   "metadata": {},
   "outputs": [
    {
     "name": "stdout",
     "output_type": "stream",
     "text": [
      "_________________________________________________________________\n",
      "Layer (type)                 Output Shape              Param #   \n",
      "=================================================================\n",
      "img_in (InputLayer)          (None, 120, 160, 3)       0         \n",
      "_________________________________________________________________\n",
      "cropping2d_2 (Cropping2D)    (None, 80, 160, 3)        0         \n",
      "_________________________________________________________________\n",
      "conv2d_6 (Conv2D)            (None, 38, 78, 24)        1824      \n",
      "_________________________________________________________________\n",
      "conv2d_7 (Conv2D)            (None, 17, 37, 32)        19232     \n",
      "_________________________________________________________________\n",
      "conv2d_8 (Conv2D)            (None, 7, 17, 64)         51264     \n",
      "_________________________________________________________________\n",
      "conv2d_9 (Conv2D)            (None, 3, 8, 64)          36928     \n",
      "_________________________________________________________________\n",
      "conv2d_10 (Conv2D)           (None, 1, 6, 64)          36928     \n",
      "_________________________________________________________________\n",
      "flattened (Flatten)          (None, 384)               0         \n",
      "_________________________________________________________________\n",
      "dense_3 (Dense)              (None, 100)               38500     \n",
      "_________________________________________________________________\n",
      "dropout_3 (Dropout)          (None, 100)               0         \n",
      "_________________________________________________________________\n",
      "dense_4 (Dense)              (None, 50)                5050      \n",
      "_________________________________________________________________\n",
      "dropout_4 (Dropout)          (None, 50)                0         \n",
      "_________________________________________________________________\n",
      "angle_cat_out (Dense)        (None, 3)                 153       \n",
      "=================================================================\n",
      "Total params: 189,879\n",
      "Trainable params: 189,879\n",
      "Non-trainable params: 0\n",
      "_________________________________________________________________\n",
      "Train on 7965 samples, validate on 5114 samples\n",
      "Epoch 1/100\n"
     ]
    }
   ],
   "source": [
    "# fit model\n",
    "\n",
    "epochs=100\n",
    "steps=100\n",
    "verbose=1\n",
    "min_delta=.0005\n",
    "patience=5\n",
    "use_early_stop=True\n",
    "\n",
    "\n",
    "model = default_categorical()\n",
    "\n",
    "# checkpoint to save model after each epoch\n",
    "save_best = ModelCheckpoint(save_model_path,\n",
    "                            monitor='val_loss',\n",
    "                            verbose=verbose,\n",
    "                            save_best_only=True,\n",
    "                            mode='min')\n",
    "\n",
    "# stop training if the validation error stops improving.\n",
    "early_stop = EarlyStopping(monitor='val_loss',\n",
    "                           min_delta=min_delta,\n",
    "                           patience=patience,\n",
    "                           verbose=verbose,\n",
    "                           mode='auto')\n",
    "\n",
    "callbacks_list = [save_best]\n",
    "\n",
    "if use_early_stop:\n",
    "    callbacks_list.append(early_stop)\n",
    "\n",
    "model.summary()\n",
    "    \n",
    "# fit from numpy array\n",
    "hist = model.fit(x=X_train,\n",
    "                 y=Y_train,\n",
    "                 steps_per_epoch=steps,\n",
    "                 epochs=epochs,\n",
    "                 verbose=1,\n",
    "                 validation_data=(X_val, Y_val),\n",
    "                 callbacks=callbacks_list,\n",
    "                 validation_steps=200/8)\n",
    "\n"
   ]
  },
  {
   "cell_type": "code",
   "execution_count": null,
   "metadata": {},
   "outputs": [],
   "source": []
  },
  {
   "cell_type": "markdown",
   "metadata": {},
   "source": [
    "Structure:\n",
    "- import data\n",
    "- train (3 tubs) / test (1 different tub) split\n",
    "- apply data augmentations\n",
    "- train + validate\n",
    "\n",
    "Interface\n",
    "testor.benchmark([['processing1', 'processing2'], \n",
    "                  ['processing4', 'processing2', 'processing5']])\n",
    "                  \n",
    "generate_brightness\n",
    "generate_night_effect\n",
    "generate_random_shadows"
   ]
  },
  {
   "cell_type": "code",
   "execution_count": 6,
   "metadata": {},
   "outputs": [
    {
     "name": "stdout",
     "output_type": "stream",
     "text": [
      "Looking in indexes: https://rec-nexus.dmp.y-track.com/repository/pypi-all/simple\n",
      "Collecting pip\n",
      "  Using cached https://rec-nexus.dmp.y-track.com/repository/pypi-all/packages/d8/f3/413bab4ff08e1fc4828dfc59996d721917df8e8583ea85385d51125dceff/pip-19.0.3-py2.py3-none-any.whl\n",
      "Installing collected packages: pip\n",
      "  Found existing installation: pip 18.1\n",
      "    Uninstalling pip-18.1:\n",
      "      Successfully uninstalled pip-18.1\n",
      "Successfully installed pip-19.0.3\n"
     ]
    }
   ],
   "source": [
    "%%bash \n",
    "pip install --upgrade pip"
   ]
  },
  {
   "cell_type": "code",
   "execution_count": null,
   "metadata": {},
   "outputs": [],
   "source": []
  },
  {
   "cell_type": "code",
   "execution_count": 4,
   "metadata": {},
   "outputs": [],
   "source": [
    "\n",
    "def tweak_luminosity(image):\n",
    "    image_HLS = cv2.cvtColor(image, cv2.COLOR_BGR2HLS) ## Conversion to HLS\n",
    "    random_brightness_coefficient = np.random.uniform()+0.5 ## generates value between 0.5 and 1.5\n",
    "    image_HLS[:,:,1] = image_HLS[:,:,1]*random_brightness_coefficient ## scale pixel values up or down for channel 1(Lightness)\n",
    "    image_HLS[:,:,1][image_HLS[:,:,1]>255]  = 255 ##Sets all values above 255 to 255\n",
    "    image_HLS = np.array(image_HLS, dtype = np.uint8)\n",
    "    image_RGB = cv2.cvtColor(image_HLS,cv2.COLOR_HLS2RGB)\n",
    "    return image_RGB\n",
    "\n",
    "def add_snow(image):\n",
    "    image_HLS = cv2.cvtColor(image, cv2.COLOR_RGB2HLS) ## Conversion to HLS\n",
    "    image_HLS = np.array(image_HLS, dtype = np.float64) \n",
    "    brightness_coefficient = 2.5 \n",
    "    snow_point=60 ## increase this for more snow\n",
    "    image_HLS[:,:,1][image_HLS[:,:,1]<snow_point] = image_HLS[:,:,1][image_HLS[:,:,1]<snow_point]*brightness_coefficient ## scale pixel values up for channel 1(Lightness)\n",
    "    image_HLS[:,:,1][image_HLS[:,:,1]>255]  = 255 ##Sets all values above 255 to 255\n",
    "    image_HLS = np.array(image_HLS, dtype = np.uint8)\n",
    "    image_RGB = cv2.cvtColor(image_HLS, cv2.COLOR_HLS2RGB) ## Conversion to RGB\n",
    "    return image_RGB\n",
    "\n",
    "def shadow_coordinates(imshape, no_of_shadows=2):\n",
    "    vertices_list=[]\n",
    "    for index in range(no_of_shadows):\n",
    "        vertex=[]\n",
    "        for dimensions in range(np.random.randint(3,15)): ## Dimensionality of the shadow polygon\n",
    "            vertex.append(( imshape[1]*np.random.uniform(),imshape[0]//3+imshape[0]*np.random.uniform()))\n",
    "        vertices = np.array([vertex], dtype=np.int32) ## single shadow vertices \n",
    "        vertices_list.append(vertices)\n",
    "    return vertices_list ## List of shadow vertices\n",
    "\n",
    "\n",
    "def add_shadows(image, no_of_shadows=2):\n",
    "    image_HLS = cv2.cvtColor(image,cv2.COLOR_RGB2HLS) ## Conversion to HLS\n",
    "    mask = np.zeros_like(image) \n",
    "    imshape = image.shape\n",
    "    vertices_list = shadow_coordinates(imshape, no_of_shadows) #3 getting list of shadow vertices\n",
    "    for vertices in vertices_list: \n",
    "        cv2.fillPoly(mask, vertices, 255) ## adding all shadow polygons on empty mask, single 255 denotes only red channel\n",
    "    \n",
    "    image_HLS[:,:,1][mask[:,:,0]==255] = image_HLS[:,:,1][mask[:,:,0]==255]*0.5   ## if red channel is hot, image's \"Lightness\" channel's brightness is lowered \n",
    "    image_RGB = cv2.cvtColor(image_HLS,cv2.COLOR_HLS2RGB) ## Conversion to RGB\n",
    "    return image_RGB\n",
    "\n",
    "def add_blur(images):\n",
    "    seq = iaa.Sequential([\n",
    "        iaa.GaussianBlur(sigma=(0, 3.0)) # blur images with a sigma of 0 to 3.0\n",
    "    ])\n",
    "    \n",
    "    aug_images = seq.augment_images(image_ori)\n",
    "    \n",
    "    return aug_images\n",
    "\n",
    "def add_gaussian_noise(images):\n",
    "    seq = iaa.Sequential([\n",
    "        iaa.AdditiveGaussianNoise(scale=(0, 0.08*255))\n",
    "    ])\n",
    "    \n",
    "    aug_images = seq.augment_images(image_ori)\n",
    "    \n",
    "    return aug_images\n",
    "\n",
    "\n",
    "def add_contrast_normalization(images):\n",
    "    seq = iaa.Sequential([\n",
    "        iaa.ContrastNormalization((0.2, 1.5))\n",
    "    ])\n",
    "    \n",
    "    aug_images = seq.augment_images(image_ori)\n",
    "    \n",
    "    return aug_images\n",
    "\n",
    "\n",
    "def transform(X, Y, transformation, proportion=0.25):\n",
    "    # Generate a random selection of indexes\n",
    "    indexes = random.sample(range(0, X.shape[0]), int(X.shape[0]*proportion))\n",
    "    \n",
    "    X_aug = []\n",
    "    Y_aug = []\n",
    "    for index in tqdm(indexes):\n",
    "        im = transformation(X[index])\n",
    "        X_aug.append(im)\n",
    "        Y_aug.append(Y[index])\n",
    "\n",
    "    return np.asarray(X_aug), np.asarray(Y_aug)\n",
    "\n",
    "# augmentation dict\n",
    "transform_dict = {\n",
    "    'tweak_luminosity': tweak_luminosity,\n",
    "    'add_snow': add_snow,\n",
    "    'add_shadow': add_shadow,\n",
    "    'add_blur': add_blur,\n",
    "    'add_gaussian_noise': add_gaussian_noise,\n",
    "    'add_shadows': add_shadows,\n",
    "    'add_contrast_normalization': add_contrast_normalization\n",
    "}\n"
   ]
  }
 ],
 "metadata": {
  "kernelspec": {
   "display_name": "Python 3",
   "language": "python",
   "name": "python3"
  },
  "language_info": {
   "codemirror_mode": {
    "name": "ipython",
    "version": 3
   },
   "file_extension": ".py",
   "mimetype": "text/x-python",
   "name": "python",
   "nbconvert_exporter": "python",
   "pygments_lexer": "ipython3",
   "version": "3.5.2"
  }
 },
 "nbformat": 4,
 "nbformat_minor": 2
}
