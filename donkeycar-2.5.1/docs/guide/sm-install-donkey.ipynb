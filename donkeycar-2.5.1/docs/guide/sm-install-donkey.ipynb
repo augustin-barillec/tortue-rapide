{
 "cells": [
  {
   "cell_type": "markdown",
   "metadata": {},
   "source": [
    "# Installing donkey"
   ]
  },
  {
   "cell_type": "markdown",
   "metadata": {},
   "source": [
    "## The Donkey library\n",
    "\n",
    "The [Donkey library](https://github.com/wroscoe/donkey) has several components.\n",
    "\n",
    "It is first and foremost a python library installed where your other python libraries are (e.g. system python or virtualenv). After installation, you can `import` it as any normal python library:\n",
    "\n",
    "```python\n",
    "import donkeycar as dk\n",
    "```\n",
    "\n",
    "It also has a CLI with tools mainly used to aid training:\n",
    "\n",
    "```bash\n",
    "donkey --help\n",
    "```\n",
    "\n",
    "A `Vehicle` application, installed to the `~/d2` directory by default. This is where you'll find the `manage.py` script, which is used for both **driving** and **training**.\n",
    "\n",
    "```bash\n",
    "~/d2/manage.py --help\n",
    "```"
   ]
  },
  {
   "cell_type": "markdown",
   "metadata": {},
   "source": [
    "## Install"
   ]
  },
  {
   "cell_type": "code",
   "execution_count": null,
   "metadata": {},
   "outputs": [],
   "source": [
    "# Make sure we're in SageMaker root\n",
    "%cd ~/SageMaker\n",
    "\n",
    "# Install\n",
    "!pip install ~/SageMaker/donkey"
   ]
  },
  {
   "cell_type": "code",
   "execution_count": null,
   "metadata": {},
   "outputs": [],
   "source": [
    "# Create a new car using the library CLI\n",
    "!donkey createcar --path ~/d2"
   ]
  },
  {
   "cell_type": "markdown",
   "metadata": {},
   "source": [
    "Installation is now finished. You'll find the `manage.py` script in the `~/d2` directory as usual.\n",
    "\n",
    "**Note** that you need to install the Donkey library for every new [Jupyter notebook](http://jupyter.org/) you create. Cloning the git you only need to do once per *Notebook instance* though."
   ]
  },
  {
   "cell_type": "code",
   "execution_count": null,
   "metadata": {},
   "outputs": [],
   "source": []
  }
 ],
 "metadata": {
  "kernelspec": {
   "display_name": "conda_tensorflow_p36",
   "language": "python",
   "name": "conda_tensorflow_p36"
  },
  "language_info": {
   "codemirror_mode": {
    "name": "ipython",
    "version": 3
   },
   "file_extension": ".py",
   "mimetype": "text/x-python",
   "name": "python",
   "nbconvert_exporter": "python",
   "pygments_lexer": "ipython3",
   "version": "3.6.4"
  }
 },
 "nbformat": 4,
 "nbformat_minor": 2
}
